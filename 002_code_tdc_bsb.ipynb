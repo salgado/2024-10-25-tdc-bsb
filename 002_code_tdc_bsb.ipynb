{
  "cells": [
    {
      "cell_type": "markdown",
      "id": "2a3143e8-3949-4ecc-905c-8333a43c9c87",
      "metadata": {
        "id": "2a3143e8-3949-4ecc-905c-8333a43c9c87"
      },
      "source": [
        "# Code Workshop TDC DEMO\n",
        "\n"
      ]
    },
    {
      "cell_type": "markdown",
      "id": "68c5e34d-28f9-4195-9f9c-2a8aec1effe6",
      "metadata": {
        "id": "68c5e34d-28f9-4195-9f9c-2a8aec1effe6"
      },
      "source": [
        "## setup\n",
        "\n",
        "* Elastic Credentials - Create an [Elastic Cloud deployment](https://www.elastic.co/search-labs/tutorials/install-elasticsearch/elastic-cloud) to get all Elastic credentials (`ELASTIC_CLOUD_ID`, `ELASTIC_API_KEY`).\n",
        "\n"
      ]
    },
    {
      "cell_type": "markdown",
      "id": "b8e9a58a-942f-4039-96c0-b276d5b8a97f",
      "metadata": {
        "id": "b8e9a58a-942f-4039-96c0-b276d5b8a97f"
      },
      "source": [
        "## Install packages"
      ]
    },
    {
      "cell_type": "code",
      "source": [
        "%pip install --upgrade langchain langchain-community pypdf tiktoken langchain_openai langchain_elasticsearch"
      ],
      "metadata": {
        "id": "zehomBEflezP"
      },
      "id": "zehomBEflezP",
      "execution_count": null,
      "outputs": []
    },
    {
      "cell_type": "markdown",
      "id": "851db243-ca7d-4a7c-a93b-d22ab149a1bb",
      "metadata": {
        "id": "851db243-ca7d-4a7c-a93b-d22ab149a1bb"
      },
      "source": [
        "## Import packages and credentials"
      ]
    },
    {
      "cell_type": "code",
      "source": [
        "from langchain.prompts import ChatPromptTemplate\n",
        "from langchain.schema.runnable import RunnablePassthrough\n",
        "from langchain.schema.output_parser import StrOutputParser\n"
      ],
      "metadata": {
        "id": "BMNul_tFgBKc"
      },
      "id": "BMNul_tFgBKc",
      "execution_count": null,
      "outputs": []
    },
    {
      "cell_type": "markdown",
      "id": "b2f68db5-21ac-47b0-941b-1d816b586e18",
      "metadata": {
        "id": "b2f68db5-21ac-47b0-941b-1d816b586e18"
      },
      "source": [
        "## Get Credentials"
      ]
    },
    {
      "cell_type": "code",
      "source": [
        "# OPEN_AI_KEY-> https://platform.openai.com/api-keys\n",
        "\n",
        "OPENAI_API_KEY = input(\"Por favor, insira sua OpenAI API Key: \")\n",
        "ELASTIC_API_KEY = input(\"Por favor, insira sua Elastic API Key: \")\n",
        "CLOUD_ID = input(\"Por favor, insira seu Elastic Cloud ID: \")"
      ],
      "metadata": {
        "id": "S0N7D2VQb9cA"
      },
      "id": "S0N7D2VQb9cA",
      "execution_count": null,
      "outputs": []
    },
    {
      "cell_type": "code",
      "source": [],
      "metadata": {
        "id": "ICgviImJjacC"
      },
      "id": "ICgviImJjacC",
      "execution_count": null,
      "outputs": []
    },
    {
      "cell_type": "code",
      "source": [
        "import os\n",
        "os.environ['OPENAI_API_KEY']=OPENAI_API_KEY"
      ],
      "metadata": {
        "id": "sqbIseMZXIfc"
      },
      "id": "sqbIseMZXIfc",
      "execution_count": null,
      "outputs": []
    },
    {
      "cell_type": "code",
      "source": [
        "from langchain.document_loaders import PyPDFLoader\n",
        "\n",
        "pdf_url = \"https://raw.githubusercontent.com/salgado/2024-10-25-tdc-bsb/main/concurso-bnb-edital.pdf\"\n",
        "\n",
        "# Load PDF\n",
        "loaders = [\n",
        "    # Duplicate documents on purpose - messy data\n",
        "    PyPDFLoader(pdf_url)\n",
        "]\n",
        "docs = []\n",
        "for loader in loaders:\n",
        "    docs.extend(loader.load())"
      ],
      "metadata": {
        "id": "UqaYYW3IqOHa"
      },
      "id": "UqaYYW3IqOHa",
      "execution_count": null,
      "outputs": []
    },
    {
      "cell_type": "code",
      "source": [
        "# Split\n",
        "# from langchain.text_splitter import RecursiveCharacterTextSplitter\n",
        "# text_splitter = RecursiveCharacterTextSplitter(\n",
        "#     chunk_size = 1500,\n",
        "#     chunk_overlap = 500\n",
        "# )\n",
        "\n",
        "# Testar com split de tokens\n",
        "from langchain.text_splitter import TokenTextSplitter\n",
        "text_splitter = TokenTextSplitter(\n",
        "    chunk_size = 500,\n",
        "    chunk_overlap = 30\n",
        ")"
      ],
      "metadata": {
        "id": "d0oc8YsaqXyo"
      },
      "id": "d0oc8YsaqXyo",
      "execution_count": null,
      "outputs": []
    },
    {
      "cell_type": "code",
      "source": [
        "splits = text_splitter.split_documents(docs)"
      ],
      "metadata": {
        "id": "FSgBhzqeqeUd"
      },
      "id": "FSgBhzqeqeUd",
      "execution_count": null,
      "outputs": []
    },
    {
      "cell_type": "code",
      "source": [
        "len(splits)"
      ],
      "metadata": {
        "id": "TFc08pXGqi6o"
      },
      "id": "TFc08pXGqi6o",
      "execution_count": null,
      "outputs": []
    },
    {
      "cell_type": "code",
      "source": [
        "from langchain_openai import OpenAIEmbeddings\n"
      ],
      "metadata": {
        "id": "HrUoXa-jaKaz"
      },
      "id": "HrUoXa-jaKaz",
      "execution_count": null,
      "outputs": []
    },
    {
      "cell_type": "code",
      "source": [
        "ELASTIC_INDEX_NAME=\"tdc-workshop-002\""
      ],
      "metadata": {
        "id": "QIDeY50CbP_N"
      },
      "id": "QIDeY50CbP_N",
      "execution_count": null,
      "outputs": []
    },
    {
      "cell_type": "code",
      "source": [
        "from langchain_elasticsearch import ElasticsearchStore\n",
        "from langchain_openai import ChatOpenAI\n"
      ],
      "metadata": {
        "id": "74Dkv9YucDgz"
      },
      "id": "74Dkv9YucDgz",
      "execution_count": null,
      "outputs": []
    },
    {
      "cell_type": "code",
      "source": [
        "query_embedding=OpenAIEmbeddings()\n"
      ],
      "metadata": {
        "id": "lOCR-bpjbwPA"
      },
      "id": "lOCR-bpjbwPA",
      "execution_count": null,
      "outputs": []
    },
    {
      "cell_type": "code",
      "source": [
        "#query_embedding = GoogleGenerativeAIEmbeddings(\n",
        "#    model=\"models/embedding-001\", task_type=\"retrieval_document\"\n",
        "#)\n",
        "es = ElasticsearchStore.from_documents(\n",
        "    splits,\n",
        "    es_cloud_id=CLOUD_ID,\n",
        "    es_api_key=ELASTIC_API_KEY,\n",
        "    index_name=ELASTIC_INDEX_NAME,\n",
        "    embedding=query_embedding,\n",
        ")"
      ],
      "metadata": {
        "id": "pIqP7_0tqlZX"
      },
      "id": "pIqP7_0tqlZX",
      "execution_count": null,
      "outputs": []
    },
    {
      "cell_type": "code",
      "source": [
        "def format_docs(docs):\n",
        "    return \" \".join(doc.page_content for doc in docs)\n",
        "    ##return \"\\n\\n\".join(doc.page_content for doc in docs)"
      ],
      "metadata": {
        "id": "8_eqVuIZrZlg"
      },
      "id": "8_eqVuIZrZlg",
      "execution_count": null,
      "outputs": []
    },
    {
      "cell_type": "code",
      "source": [
        "retriever = es.as_retriever(search_kwargs={\"k\": 3})     #outro ponto de ajuste\n"
      ],
      "metadata": {
        "id": "S_eFoPWcgkEu"
      },
      "id": "S_eFoPWcgkEu",
      "execution_count": null,
      "outputs": []
    },
    {
      "cell_type": "code",
      "source": [
        "\n",
        "#     | ChatGoogleGenerativeAI(model=\"gemini-pro\", temperature=0.8)\n",
        "\n",
        "template = \"\"\"Answer the question in portuguese based only on the following context:\\n\n",
        "\n",
        "{context}\n",
        "\n",
        "Question: {question}\n",
        "\"\"\"\n",
        "prompt = ChatPromptTemplate.from_template(template)\n",
        "\n",
        "\n",
        "chain = (\n",
        "    {\"context\": retriever | format_docs, \"question\": RunnablePassthrough()}\n",
        "    | prompt\n",
        "    | ChatOpenAI(model=\"gpt-4o\") ## Calling Gpt-4o\n",
        "    | StrOutputParser()\n",
        ")\n",
        "\n"
      ],
      "metadata": {
        "id": "FNq7VlQUrd2J"
      },
      "id": "FNq7VlQUrd2J",
      "execution_count": null,
      "outputs": []
    },
    {
      "cell_type": "code",
      "source": [
        "def print_chat(text):\n",
        "    # Substitui os caracteres de nova linha e os prompts interrompidos\n",
        "    print(f\"\\n{'-' * 100}\\n\".join([f\"Document {i+1}:\\n\\n\" + d.page_content for i, d in enumerate(docs)]))\n"
      ],
      "metadata": {
        "id": "CC5njweKGKhk"
      },
      "id": "CC5njweKGKhk",
      "execution_count": null,
      "outputs": []
    },
    {
      "cell_type": "code",
      "source": [
        "question1 = \"Qual o concurso disponivel\"\n",
        "chain.invoke(question1)\n"
      ],
      "metadata": {
        "id": "0AbB4y4XrNQM"
      },
      "id": "0AbB4y4XrNQM",
      "execution_count": null,
      "outputs": []
    },
    {
      "cell_type": "markdown",
      "source": [
        "# chatting with pdf data"
      ],
      "metadata": {
        "id": "oues3527Lb9s"
      },
      "id": "oues3527Lb9s"
    },
    {
      "cell_type": "code",
      "source": [
        "question2 = \"qual a faixa salarial\"\n",
        "chain.invoke(question2)"
      ],
      "metadata": {
        "id": "3hjFBz6WwqeE"
      },
      "id": "3hjFBz6WwqeE",
      "execution_count": null,
      "outputs": []
    },
    {
      "cell_type": "code",
      "source": [
        "question3 = \"Fale mais sobre o cargo Especialista Técnico – Analista de Sistemas – Perfil 1: Desenvolvimento de Sistemas\"\n",
        "chain.invoke(question3)\n"
      ],
      "metadata": {
        "id": "qTkP93FdrsjG"
      },
      "id": "qTkP93FdrsjG",
      "execution_count": null,
      "outputs": []
    },
    {
      "cell_type": "code",
      "source": [
        "question4 = \"quais os pre-requisitos?\"\n",
        "chain.invoke(question4)"
      ],
      "metadata": {
        "id": "a_zacKug4fcQ"
      },
      "id": "a_zacKug4fcQ",
      "execution_count": null,
      "outputs": []
    },
    {
      "cell_type": "code",
      "source": [
        "# verificar ajustes de tokens de saida"
      ],
      "metadata": {
        "id": "KAx8HKdx99e_"
      },
      "id": "KAx8HKdx99e_",
      "execution_count": null,
      "outputs": []
    },
    {
      "cell_type": "code",
      "source": [
        "!pip install openai"
      ],
      "metadata": {
        "id": "QD_qPUvg6LNk"
      },
      "id": "QD_qPUvg6LNk",
      "execution_count": null,
      "outputs": []
    },
    {
      "cell_type": "code",
      "source": [],
      "metadata": {
        "id": "kHpHXfL48wqM"
      },
      "id": "kHpHXfL48wqM",
      "execution_count": null,
      "outputs": []
    },
    {
      "cell_type": "markdown",
      "source": [
        "# Question Answerings"
      ],
      "metadata": {
        "id": "yYiv7dfo8ph1"
      },
      "id": "yYiv7dfo8ph1"
    },
    {
      "cell_type": "code",
      "source": [
        "# Question Answerings"
      ],
      "metadata": {
        "id": "RHannTGbQJ_u"
      },
      "id": "RHannTGbQJ_u",
      "execution_count": null,
      "outputs": []
    },
    {
      "cell_type": "markdown",
      "source": [
        "## Retrieval Chain types"
      ],
      "metadata": {
        "id": "BL9FiGzuC96p"
      },
      "id": "BL9FiGzuC96p"
    },
    {
      "cell_type": "code",
      "source": [
        "\n",
        "# Run chain\n",
        "from langchain.chains import RetrievalQA\n",
        "question = \"quais cargos abertos no concurso?\"\n"
      ],
      "metadata": {
        "id": "QgMod2IbCo5D"
      },
      "id": "QgMod2IbCo5D",
      "execution_count": null,
      "outputs": []
    },
    {
      "cell_type": "code",
      "source": [
        "llm_name = \"gpt-3.5-turbo\"\n",
        "llm = ChatOpenAI(model_name=llm_name, temperature=0)\n",
        "llm.predict(\"Bom dia!\")"
      ],
      "metadata": {
        "id": "9PT71I4z6B6W"
      },
      "id": "9PT71I4z6B6W",
      "execution_count": null,
      "outputs": []
    },
    {
      "cell_type": "code",
      "source": [
        "# map_reduce\n",
        "qa_chain_mr = RetrievalQA.from_chain_type(\n",
        "    llm,\n",
        "    retriever=retriever,\n",
        "    chain_type=\"map_reduce\"\n",
        ")"
      ],
      "metadata": {
        "id": "5lyhh9PhDCxb"
      },
      "id": "5lyhh9PhDCxb",
      "execution_count": null,
      "outputs": []
    },
    {
      "cell_type": "code",
      "source": [
        "result = qa_chain_mr({\"query\": question})"
      ],
      "metadata": {
        "id": "XX2HHVZoDN_k"
      },
      "id": "XX2HHVZoDN_k",
      "execution_count": null,
      "outputs": []
    },
    {
      "cell_type": "code",
      "source": [
        "result[\"result\"]"
      ],
      "metadata": {
        "id": "W1DkUH8MDaZE"
      },
      "id": "W1DkUH8MDaZE",
      "execution_count": null,
      "outputs": []
    },
    {
      "cell_type": "code",
      "source": [
        "# refine\n",
        "qa_chain_mr = RetrievalQA.from_chain_type(\n",
        "    llm,\n",
        "    retriever=retriever,\n",
        "    chain_type=\"refine\"\n",
        ")\n",
        "result = qa_chain_mr({\"query\": question})\n",
        "result[\"result\"]"
      ],
      "metadata": {
        "id": "iIk3ZilbG7Vr"
      },
      "id": "iIk3ZilbG7Vr",
      "execution_count": null,
      "outputs": []
    },
    {
      "cell_type": "code",
      "source": [
        "# refine\n",
        "qa_chain_mr = RetrievalQA.from_chain_type(\n",
        "    llm,\n",
        "    retriever=retriever,\n",
        "    chain_type=\"map_rerank\"\n",
        ")\n",
        "result = qa_chain_mr({\"query\": question})\n",
        "result[\"result\"]"
      ],
      "metadata": {
        "id": "OS_L8x57IAbt"
      },
      "id": "OS_L8x57IAbt",
      "execution_count": null,
      "outputs": []
    },
    {
      "cell_type": "markdown",
      "source": [
        "# Memory\n"
      ],
      "metadata": {
        "id": "sD4TmkZf8Zzv"
      },
      "id": "sD4TmkZf8Zzv"
    },
    {
      "cell_type": "code",
      "source": [
        "# aplicando memoria\n",
        "from langchain.memory import ConversationBufferMemory\n",
        "memory = ConversationBufferMemory(\n",
        "    memory_key=\"chat_history\",\n",
        "    return_messages=True\n",
        ")"
      ],
      "metadata": {
        "id": "TfLyJ_Pw7IDx"
      },
      "id": "TfLyJ_Pw7IDx",
      "execution_count": null,
      "outputs": []
    },
    {
      "cell_type": "code",
      "source": [
        "from langchain.chains import ConversationalRetrievalChain\n",
        "retriever=retriever\n",
        "qa = ConversationalRetrievalChain.from_llm(\n",
        "    llm,\n",
        "    retriever=retriever,\n",
        "    memory=memory\n",
        ")"
      ],
      "metadata": {
        "id": "5PB7RnkK7YUu"
      },
      "id": "5PB7RnkK7YUu",
      "execution_count": null,
      "outputs": []
    },
    {
      "cell_type": "code",
      "source": [
        "result = qa({\"question\": question})"
      ],
      "metadata": {
        "id": "bjCVztrq7gsK"
      },
      "id": "bjCVztrq7gsK",
      "execution_count": null,
      "outputs": []
    },
    {
      "cell_type": "code",
      "source": [
        "result['answer']"
      ],
      "metadata": {
        "id": "117ViruU7umN"
      },
      "id": "117ViruU7umN",
      "execution_count": null,
      "outputs": []
    },
    {
      "cell_type": "code",
      "source": [
        "question2= \"Fale mais sobre o Cargo 1: Especialista Técnico – Analista de Sistemas – Perfil 1: Desenvolvimento de Sistemas\""
      ],
      "metadata": {
        "id": "ONLu-jyijXy-"
      },
      "id": "ONLu-jyijXy-",
      "execution_count": null,
      "outputs": []
    },
    {
      "cell_type": "code",
      "source": [
        "question = question2\n",
        "result = qa({\"question\": question})"
      ],
      "metadata": {
        "id": "DNoo6iJi7zKH"
      },
      "id": "DNoo6iJi7zKH",
      "execution_count": null,
      "outputs": []
    },
    {
      "cell_type": "code",
      "source": [
        "result['answer']"
      ],
      "metadata": {
        "id": "X_mgW7MD7_hh"
      },
      "id": "X_mgW7MD7_hh",
      "execution_count": null,
      "outputs": []
    },
    {
      "cell_type": "code",
      "source": [
        "question = \"Qual o salario para esse cargo\"\n",
        "result = qa({\"question\": question})"
      ],
      "metadata": {
        "id": "MIoZlrst8BCC"
      },
      "id": "MIoZlrst8BCC",
      "execution_count": null,
      "outputs": []
    },
    {
      "cell_type": "code",
      "source": [
        "result['answer']"
      ],
      "metadata": {
        "id": "VvO5ZDjJGVZU"
      },
      "id": "VvO5ZDjJGVZU",
      "execution_count": null,
      "outputs": []
    },
    {
      "cell_type": "code",
      "source": [],
      "metadata": {
        "id": "RaPsy-PLS1dc"
      },
      "id": "RaPsy-PLS1dc",
      "execution_count": null,
      "outputs": []
    },
    {
      "cell_type": "code",
      "source": [],
      "metadata": {
        "id": "wiwNjBbFTePR"
      },
      "id": "wiwNjBbFTePR",
      "execution_count": null,
      "outputs": []
    }
  ],
  "metadata": {
    "kernelspec": {
      "display_name": "Python 3 (ipykernel)",
      "language": "python",
      "name": "python3"
    },
    "language_info": {
      "codemirror_mode": {
        "name": "ipython",
        "version": 3
      },
      "file_extension": ".py",
      "mimetype": "text/x-python",
      "name": "python",
      "nbconvert_exporter": "python",
      "pygments_lexer": "ipython3",
      "version": "3.11.6"
    },
    "colab": {
      "provenance": []
    }
  },
  "nbformat": 4,
  "nbformat_minor": 5
}